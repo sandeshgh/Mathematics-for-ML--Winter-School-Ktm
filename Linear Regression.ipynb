{
 "cells": [
  {
   "cell_type": "markdown",
   "metadata": {},
   "source": [
    "## Reference\n",
    "\n",
    "This code has been adapted from the github:\n",
    "https://github.com/mml-book/mml-book.github.io\n"
   ]
  },
  {
   "cell_type": "code",
   "execution_count": 3,
   "metadata": {},
   "outputs": [],
   "source": [
    "# import necessary libraries\n",
    "import numpy as np\n",
    "import matplotlib.pyplot as plt\n",
    "from scipy import linalg"
   ]
  },
  {
   "cell_type": "code",
   "execution_count": 4,
   "metadata": {},
   "outputs": [
    {
     "data": {
      "image/png": "[encoded data removed]",
      "text/plain": [
       "<Figure size 432x288 with 1 Axes>"
      ]
     },
     "metadata": {
      "needs_background": "light"
     },
     "output_type": "display_data"
    }
   ],
   "source": [
    "# simple linear type dataset\n",
    "\n",
    "X = np.array([-3, -1, 0, 1, 3]).reshape(-1,1) # 5x1 vector, N=5, D=1\n",
    "y = np.array([-1.2, -0.7, 0.14, 0.67, 1.67]).reshape(-1,1) # 5x1 vector\n",
    "\n",
    "# Plot the training set\n",
    "plt.figure()\n",
    "plt.plot(X, y, '+', markersize=10)\n",
    "plt.xlabel(\"$x$\")\n",
    "plt.ylabel(\"$y$\");"
   ]
  },
  {
   "cell_type": "markdown",
   "metadata": {},
   "source": [
    "Maximum likelihood estimate\n"
   ]
  },
  {
   "cell_type": "code",
   "execution_count": 5,
   "metadata": {},
   "outputs": [],
   "source": [
    "# maximum likelihood estimate is same as least square solution\n",
    "\n",
    "def find_max_likelihood_estimate(X, y):\n",
    "    inv = linalg.inv(np.matmul(X.T, X))\n",
    "    Xty= (X.T).dot(y)\n",
    "    #inv(X'X)X'y\n",
    "    return inv.dot(Xty)\n",
    "\n",
    "def test_prediction(Xtest, theta):\n",
    "    return Xtest.dot(theta)"
   ]
  },
  {
   "cell_type": "code",
   "execution_count": 6,
   "metadata": {},
   "outputs": [],
   "source": [
    "theta_ml = find_max_likelihood_estimate(X,y)"
   ]
  },
  {
   "cell_type": "code",
   "execution_count": 7,
   "metadata": {},
   "outputs": [
    {
     "data": {
      "image/png": "[encoded data removed]",
      "text/plain": [
       "<Figure size 432x288 with 1 Axes>"
      ]
     },
     "metadata": {
      "needs_background": "light"
     },
     "output_type": "display_data"
    }
   ],
   "source": [
    "# generate fine grained test points\n",
    "Xtest = np.linspace(-5,5,100).reshape(-1,1) # 100 x 1 vector of test inputs\n",
    "\n",
    "# predict the function values at the test points using the maximum likelihood estimator\n",
    "ml_prediction = test_prediction(Xtest, theta_ml)\n",
    "\n",
    "# plot\n",
    "plt.figure()\n",
    "plt.plot(X, y, '+', markersize=10)\n",
    "plt.plot(Xtest, ml_prediction)\n",
    "plt.xlabel(\"$x$\")\n",
    "plt.ylabel(\"$y$\");"
   ]
  },
  {
   "cell_type": "markdown",
   "metadata": {},
   "source": [
    "### Discussion\n",
    "Notice that this works reasonably well. But, that is only true because data passes through the origin"
   ]
  },
  {
   "cell_type": "code",
   "execution_count": 8,
   "metadata": {},
   "outputs": [
    {
     "data": {
      "text/plain": [
       "array([[0.499]])"
      ]
     },
     "execution_count": 8,
     "metadata": {},
     "output_type": "execute_result"
    }
   ],
   "source": [
    "# print the value of theta\n",
    "# note it is 1D meaning there is no bias\n",
    "theta_ml\n"
   ]
  },
  {
   "cell_type": "code",
   "execution_count": 9,
   "metadata": {},
   "outputs": [
    {
     "data": {
      "image/png": "[encoded data removed]",
      "text/plain": [
       "<Figure size 432x288 with 1 Axes>"
      ]
     },
     "metadata": {
      "needs_background": "light"
     },
     "output_type": "display_data"
    }
   ],
   "source": [
    "# Delibearately introduce some bias by adding 2\n",
    "# Note that our model is of the form y =mx, i.e. without bias\n",
    "\n",
    "y = y+2.0\n",
    "theta_ml = find_max_likelihood_estimate(X,y)\n",
    "Xtest = np.linspace(-5,5,100).reshape(-1,1) # 100 x 1 vector of test inputs\n",
    "\n",
    "# predict the function values at the test points using the maximum likelihood estimator\n",
    "ml_prediction = test_prediction(Xtest, theta_ml)\n",
    "\n",
    "# plot\n",
    "plt.figure()\n",
    "plt.plot(X, y, '+', markersize=10)\n",
    "plt.plot(Xtest, ml_prediction)\n",
    "plt.xlabel(\"$x$\")\n",
    "plt.ylabel(\"$y$\");"
   ]
  },
  {
   "cell_type": "markdown",
   "metadata": {},
   "source": [
    "## Analysis\n",
    "We have deliberately added bias to the data, but our model is still without bias. That has resulted into mismatch between model and data."
   ]
  },
  {
   "cell_type": "code",
   "execution_count": 10,
   "metadata": {},
   "outputs": [
    {
     "data": {
      "text/plain": [
       "(5, 1)"
      ]
     },
     "execution_count": 10,
     "metadata": {},
     "output_type": "execute_result"
    }
   ],
   "source": [
    "X.shape"
   ]
  },
  {
   "cell_type": "code",
   "execution_count": 11,
   "metadata": {},
   "outputs": [],
   "source": [
    "# Code to add a column of ones. Because of that, our model now incorporates bias.\n",
    "\n",
    "def add_bias_column(X):\n",
    "    N, d = X.shape\n",
    "    out = np.ones((N,d+1))\n",
    "    out[:,:-1]= X\n",
    "    return out"
   ]
  },
  {
   "cell_type": "code",
   "execution_count": 12,
   "metadata": {},
   "outputs": [
    {
     "data": {
      "text/plain": [
       "array([[-3.,  1.],\n",
       "       [-1.,  1.],\n",
       "       [ 0.,  1.],\n",
       "       [ 1.,  1.],\n",
       "       [ 3.,  1.]])"
      ]
     },
     "execution_count": 12,
     "metadata": {},
     "output_type": "execute_result"
    }
   ],
   "source": [
    "X1 = add_bias_column(X)\n",
    "X1"
   ]
  },
  {
   "cell_type": "code",
   "execution_count": 13,
   "metadata": {},
   "outputs": [],
   "source": [
    "# Now we have added columns of ones in X to make X1, our model automatically expects \\theta of size 2: bias and slope.\n",
    "# Therefore, we expect that this will solve the problem\n",
    "\n",
    "theta_ml = find_max_likelihood_estimate(X1,y)\n",
    "Xtest = np.linspace(-5,5,100).reshape(-1,1) # 100 x 1 vector of test inputs\n",
    "Xtest = add_bias_column(Xtest)\n",
    "\n",
    "\n",
    "\n",
    "# predict the function values at the test points using the maximum likelihood estimator\n",
    "ml_prediction = test_prediction(Xtest, theta_ml)\n",
    "\n",
    "# plot\n",
    "plt.figure()\n",
    "plt.plot(X1[:,:-1], y, '+', markersize=10)\n",
    "plt.plot(Xtest[:,:-1], ml_prediction)\n",
    "plt.xlabel(\"$x$\")\n",
    "plt.ylabel(\"$y$\")\n",
    "plt.close()"
   ]
  },
  {
   "cell_type": "code",
   "execution_count": 14,
   "metadata": {},
   "outputs": [
    {
     "data": {
      "text/plain": [
       "array([[0.499],\n",
       "       [2.116]])"
      ]
     },
     "execution_count": 14,
     "metadata": {},
     "output_type": "execute_result"
    }
   ],
   "source": [
    "theta_ml "
   ]
  },
  {
   "cell_type": "code",
   "execution_count": 16,
   "metadata": {},
   "outputs": [
    {
     "data": {
      "image/png": "[encoded data removed]",
      "text/plain": [
       "<Figure size 432x288 with 1 Axes>"
      ]
     },
     "metadata": {
      "needs_background": "light"
     },
     "output_type": "display_data"
    }
   ],
   "source": [
    "new_theta = theta_ml[:]\n",
    "# new_theta[1]=theta_ml[1]\n",
    "new_pred = Xtest.dot(new_theta)\n",
    "\n",
    "plt.figure()\n",
    "# Note that while plotting, we don't want extra column of ones. We just want to plot x vs y\n",
    "# Hence we take all the columns except the last one, hence [:,:-1]\n",
    "plt.plot(X1[:,:-1], y, '+', markersize=10)\n",
    "plt.plot(Xtest[:,:-1], new_pred)\n",
    "plt.xlabel(\"$x$\")\n",
    "plt.ylabel(\"$y$\");\n",
    "# plt.close()"
   ]
  },
  {
   "cell_type": "markdown",
   "metadata": {},
   "source": [
    "## Discussion\n",
    "So far, we saw that depeding upon the data, we can change the matrix X and that leads to change in model. For example, we considered linear model with and without bias. When the data has bias, i.e. it does not pass through the origin, then we must model the bias, or else the best fit would be bias away from the true prediction.\n",
    "\n",
    "But, now, we change gear. We want to see if our linear regression can handle a situation where we have nonlinear data. \n",
    "We generate sinusoidal data and try to see if we can fit that with linear regression."
   ]
  },
  {
   "cell_type": "code",
   "execution_count": 19,
   "metadata": {},
   "outputs": [
    {
     "data": {
      "image/png": "[encoded data removed]",
      "text/plain": [
       "<Figure size 432x288 with 1 Axes>"
      ]
     },
     "metadata": {
      "needs_background": "light"
     },
     "output_type": "display_data"
    }
   ],
   "source": [
    "# Define f as a cosine function with small Gaussian noise\n",
    "\n",
    "def f(x):   \n",
    "    return np.cos(x) + 0.2*np.random.normal(size=(x.shape))\n",
    "\n",
    "X = np.linspace(-4,4,20).reshape(-1,1)\n",
    "y = f(X)\n",
    "\n",
    "plt.figure()\n",
    "plt.plot(X, y, '+')\n",
    "plt.xlabel(\"$x$\")\n",
    "plt.ylabel(\"$y$\");"
   ]
  },
  {
   "cell_type": "code",
   "execution_count": 20,
   "metadata": {},
   "outputs": [
    {
     "name": "stdout",
     "output_type": "stream",
     "text": [
      "Original shape (20, 1)\n",
      "loop: 2 (20, 3)\n",
      "x array (20, 3)\n"
     ]
    }
   ],
   "source": [
    "# test code used to generate polynomial feature\n",
    "K = 2\n",
    "print('Original shape', X.shape)\n",
    "N = X.shape[0]\n",
    "one_array =np.ones(shape = (N,1), dtype = X.dtype)\n",
    "X_new = np.concatenate((one_array, X), axis =-1)\n",
    "if K >1:\n",
    "    for i in range(2, K+1):\n",
    "        X_new = np.concatenate((X_new, np.power(X,i)), axis =-1)\n",
    "        print ('loop:', i, X_new.shape)\n",
    "print('x array', X_new.shape)"
   ]
  },
  {
   "cell_type": "code",
   "execution_count": 21,
   "metadata": {},
   "outputs": [],
   "source": [
    "# code to generate polynomial feature\n",
    "def poly_features(X,K):\n",
    "    N = X.shape[0]\n",
    "    one_array =np.ones(shape = (N,1), dtype = X.dtype)\n",
    "    X_new = np.concatenate((one_array, X), axis =-1)\n",
    "    if K >1:\n",
    "        for i in range(2, K+1):\n",
    "            X_new = np.concatenate((X_new, np.power(X,i)), axis =-1)\n",
    "    return X_new\n",
    "    "
   ]
  },
  {
   "cell_type": "code",
   "execution_count": 22,
   "metadata": {},
   "outputs": [],
   "source": [
    "def  nonlinear_features_maximum_likelihood(X, y):\n",
    "    inv = linalg.inv(np.matmul(X.T, X))\n",
    "    Xty= (X.T).dot(y)\n",
    "    return inv.dot(Xty)"
   ]
  },
  {
   "cell_type": "code",
   "execution_count": 30,
   "metadata": {},
   "outputs": [
    {
     "data": {
      "image/png": "[encoded data removed]",
      "text/plain": [
       "<Figure size 432x288 with 1 Axes>"
      ]
     },
     "metadata": {
      "needs_background": "light"
     },
     "output_type": "display_data"
    }
   ],
   "source": [
    "## EDIT THIS CELL\n",
    "K = 5 # Define the degree of the polynomial we wish to fit\n",
    "\n",
    "Phi = poly_features(X, K) # N x (K+1) feature matrix\n",
    "\n",
    "theta_ml = nonlinear_features_maximum_likelihood(Phi, y) # maximum likelihood estimator\n",
    "\n",
    "# test inputs\n",
    "Xtest = np.linspace(-5,5,100).reshape(-1,1)\n",
    "ytest = f(Xtest) # ground-truth y-values\n",
    "\n",
    "# feature matrix for test inputs\n",
    "Phi_test = poly_features(Xtest, K)\n",
    "\n",
    "y_pred = Phi_test.dot(theta_ml) # <-- EDIT THIS LINE\n",
    "\n",
    "# plot\n",
    "plt.figure()\n",
    "plt.plot(X, y, '+')\n",
    "plt.plot(Xtest, y_pred)\n",
    "plt.plot(Xtest, ytest)\n",
    "plt.legend([\"data\", \"prediction\", \"ground truth observations\"])\n",
    "plt.xlabel(\"$x$\")\n",
    "plt.ylabel(\"$y$\");"
   ]
  },
  {
   "cell_type": "code",
   "execution_count": 26,
   "metadata": {},
   "outputs": [],
   "source": [
    "def RMSE(y, y_pred):\n",
    "    return np.sqrt((np.square(y-y_pred)).mean())"
   ]
  },
  {
   "cell_type": "code",
   "execution_count": 27,
   "metadata": {},
   "outputs": [
    {
     "data": {
      "image/png": "[encoded data removed]",
      "text/plain": [
       "<Figure size 432x288 with 1 Axes>"
      ]
     },
     "metadata": {
      "needs_background": "light"
     },
     "output_type": "display_data"
    }
   ],
   "source": [
    "# Now we try to plot polynomial degree vs the test RMSE \n",
    "K_max = 20\n",
    "rmse_train = np.zeros((K_max+1,))\n",
    "rmse_test = np.zeros((K_max+1,))\n",
    "\n",
    "for k in range(K_max+1):\n",
    "    \n",
    "    # feature matrix\n",
    "    Phi = poly_features(X, k)\n",
    "    \n",
    "    # maximum likelihood estimate\n",
    "    theta_ml = nonlinear_features_maximum_likelihood(Phi, y)\n",
    "    \n",
    "    # predict y-values of training set\n",
    "    ypred_train = Phi @ theta_ml\n",
    "    \n",
    "    # RMSE on training set\n",
    "    rmse_train[k] = RMSE(y, ypred_train)    \n",
    "    \n",
    "    # feature matrix for test inputs\n",
    "    Phi_test = poly_features(Xtest, k)\n",
    "    \n",
    "    # prediction\n",
    "    ypred_test = Phi_test @ theta_ml\n",
    "    \n",
    "    # RMSE on test set\n",
    "    rmse_test[k] = RMSE(ytest, ypred_test)\n",
    "    \n",
    "\n",
    "plt.figure()\n",
    "plt.semilogy(rmse_train) # this plots the RMSE on a logarithmic scale\n",
    "plt.semilogy(rmse_test) # this plots the RMSE on a logarithmic scale\n",
    "plt.xlabel(\"degree of polynomial\")\n",
    "plt.ylabel(\"RMSE\")\n",
    "plt.legend([\"training set\", \"test set\"]);"
   ]
  },
  {
   "cell_type": "code",
   "execution_count": 28,
   "metadata": {},
   "outputs": [
    {
     "data": {
      "text/plain": [
       "4"
      ]
     },
     "execution_count": 28,
     "metadata": {},
     "output_type": "execute_result"
    }
   ],
   "source": [
    "np.argmin(rmse_test)"
   ]
  },
  {
   "cell_type": "code",
   "execution_count": null,
   "metadata": {},
   "outputs": [],
   "source": []
  }
 ],
 "metadata": {
  "kernelspec": {
   "display_name": "Python 3 (ipykernel)",
   "language": "python",
   "name": "python3"
  },
  "language_info": {
   "codemirror_mode": {
    "name": "ipython",
    "version": 3
   },
   "file_extension": ".py",
   "mimetype": "text/x-python",
   "name": "python",
   "nbconvert_exporter": "python",
   "pygments_lexer": "ipython3",
   "version": "3.7.11"
  }
 },
 "nbformat": 4,
 "nbformat_minor": 2
}
